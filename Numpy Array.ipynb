{
 "cells": [
  {
   "cell_type": "code",
   "execution_count": 1,
   "id": "87264fcc-c375-412e-9d55-4eb2418841fb",
   "metadata": {},
   "outputs": [],
   "source": [
    "import numpy as np"
   ]
  },
  {
   "cell_type": "code",
   "execution_count": 5,
   "id": "0709744e-8dc0-46d9-9284-055e77677930",
   "metadata": {},
   "outputs": [
    {
     "name": "stdout",
     "output_type": "stream",
     "text": [
      "[40 60 70 90]\n",
      "<class 'numpy.ndarray'>\n",
      "int32\n"
     ]
    }
   ],
   "source": [
    "#create one diamensional array\n",
    "x = np.array([40,60,70,90])\n",
    "print(x)\n",
    "print(type(x))\n",
    "print(x.dtype)"
   ]
  },
  {
   "cell_type": "code",
   "execution_count": 7,
   "id": "17921cc5-c00b-401f-aa53-55a89dbbf692",
   "metadata": {},
   "outputs": [
    {
     "name": "stdout",
     "output_type": "stream",
     "text": [
      "['A' '60' '70' '90']\n",
      "<class 'numpy.ndarray'>\n",
      "<U11\n"
     ]
    }
   ],
   "source": [
    "#one character in array\n",
    "x = np.array([\"A\",60,70,90])\n",
    "print(x)\n",
    "print(type(x))\n",
    "print(x.dtype)"
   ]
  },
  {
   "cell_type": "code",
   "execution_count": 11,
   "id": "270a1047-45a3-4edd-a0da-d160f646f575",
   "metadata": {},
   "outputs": [
    {
     "name": "stdout",
     "output_type": "stream",
     "text": [
      "[ 4.4 60.  70.  90. ]\n",
      "<class 'numpy.ndarray'>\n",
      "float64\n"
     ]
    }
   ],
   "source": [
    "#one float value in array\n",
    "x = np.array([4.4,60,70,90])\n",
    "print(x)\n",
    "print(type(x))\n",
    "print(x.dtype)"
   ]
  },
  {
   "cell_type": "code",
   "execution_count": 13,
   "id": "a986eaaf-0562-42ca-ab22-97c80a9fcb66",
   "metadata": {},
   "outputs": [
    {
     "name": "stdout",
     "output_type": "stream",
     "text": [
      "[[24 89]\n",
      " [34 59]]\n",
      "<class 'numpy.ndarray'>\n",
      "(2, 2)\n"
     ]
    }
   ],
   "source": [
    "#create 2D array\n",
    "a2=np.array([[24,89],[34,59]])\n",
    "print(a2)\n",
    "print(type(a2))\n",
    "print(a2.shape)"
   ]
  },
  {
   "cell_type": "code",
   "execution_count": 17,
   "id": "eec8e684-4633-424e-9056-460c4327b463",
   "metadata": {},
   "outputs": [
    {
     "name": "stdout",
     "output_type": "stream",
     "text": [
      "[[40 60]\n",
      " [70 90]]\n",
      "(2, 2)\n"
     ]
    }
   ],
   "source": [
    "#reshape of 1D array\n",
    "p = np.array([40,60,70,90])\n",
    "b = p.reshape(2,2)\n",
    "print(b)\n",
    "print(b.shape)"
   ]
  },
  {
   "cell_type": "code",
   "execution_count": 24,
   "id": "4bc60cdd-7409-4b32-85f4-f47601ff61fb",
   "metadata": {},
   "outputs": [
    {
     "name": "stdout",
     "output_type": "stream",
     "text": [
      "[[24 89]\n",
      " [34 59]]\n",
      "(2, 2)\n"
     ]
    }
   ],
   "source": [
    "p = np.array([[24,89],[34,59]])\n",
    "b = p.reshape(2,2)\n",
    "print(b)\n",
    "print(b.shape)"
   ]
  },
  {
   "cell_type": "code",
   "execution_count": 26,
   "id": "139c6eb0-ada4-48a3-96ba-60d83297f036",
   "metadata": {},
   "outputs": [
    {
     "name": "stdout",
     "output_type": "stream",
     "text": [
      "[ 3  4  5  6  7  8  9 10 11 12 13 14 15 16 17 18 19 20 21 22 23 24 25 26\n",
      " 27 28]\n"
     ]
    },
    {
     "data": {
      "text/plain": [
       "numpy.ndarray"
      ]
     },
     "execution_count": 26,
     "metadata": {},
     "output_type": "execute_result"
    }
   ],
   "source": [
    "# create an array with arange()\n",
    "c = np.arange(3,29)\n",
    "print(c)\n",
    "type(c)"
   ]
  },
  {
   "cell_type": "code",
   "execution_count": 32,
   "id": "b9d45b95-c409-4544-accc-7b13649c6a8a",
   "metadata": {},
   "outputs": [
    {
     "name": "stdout",
     "output_type": "stream",
     "text": [
      "[1. 2. 9.]\n"
     ]
    }
   ],
   "source": [
    "# use of around ()\n",
    "d =np.array([1.3467,2.10987,8.57])\n",
    "print(np.around(d))"
   ]
  },
  {
   "cell_type": "code",
   "execution_count": 34,
   "id": "37d0ca33-e4b0-43a7-af38-e05dd972a33c",
   "metadata": {},
   "outputs": [
    {
     "name": "stdout",
     "output_type": "stream",
     "text": [
      "[[ 3.  4.  5.  8.]\n",
      " [ 7.  2.  8. nan]]\n"
     ]
    },
    {
     "data": {
      "text/plain": [
       "dtype('float64')"
      ]
     },
     "execution_count": 34,
     "metadata": {},
     "output_type": "execute_result"
    }
   ],
   "source": [
    "#use astype() to convert the data type\n",
    "a1 = np.array([[3,4,5,8],[7,2,8,np.NAN]])#np.NAN => numpy not a number\n",
    "print(a1)\n",
    "a1.dtype"
   ]
  },
  {
   "cell_type": "code",
   "execution_count": 38,
   "id": "120f44bd-42a9-4e4c-98d7-16949cb6dc02",
   "metadata": {},
   "outputs": [
    {
     "name": "stdout",
     "output_type": "stream",
     "text": [
      "[['3.0' '4.0' '5.0' '8.0']\n",
      " ['7.0' '2.0' '8.0' 'nan']]\n"
     ]
    },
    {
     "data": {
      "text/plain": [
       "dtype('<U32')"
      ]
     },
     "execution_count": 38,
     "metadata": {},
     "output_type": "execute_result"
    }
   ],
   "source": [
    "a1_copy1 = a1.astype(str)\n",
    "print(a1_copy1)\n",
    "a1_copy1.dtype"
   ]
  },
  {
   "cell_type": "code",
   "execution_count": 40,
   "id": "fdeb8b37-1e4a-4346-bf53-3ecbb1f1d4cc",
   "metadata": {},
   "outputs": [
    {
     "data": {
      "text/plain": [
       "array([[ 3,  4,  5],\n",
       "       [ 7,  9, 20],\n",
       "       [ 4,  6, 12]])"
      ]
     },
     "execution_count": 40,
     "metadata": {},
     "output_type": "execute_result"
    }
   ],
   "source": [
    "# mathematical operations on rows and colunms\n",
    "a2 = np.array([[3,4,5],[7,9,20],[4,6,12]])\n",
    "a2"
   ]
  },
  {
   "cell_type": "code",
   "execution_count": 42,
   "id": "edd0efa8-0ec2-41cb-bab5-f916ae0f3954",
   "metadata": {},
   "outputs": [
    {
     "name": "stdout",
     "output_type": "stream",
     "text": [
      "[12 36 22]\n",
      "[14 19 37]\n"
     ]
    }
   ],
   "source": [
    "print(a2.sum(axis = 1))\n",
    "print(a2.sum(axis = 0))"
   ]
  },
  {
   "cell_type": "code",
   "execution_count": 46,
   "id": "84203951-e9a5-4de2-b4cb-062822d93846",
   "metadata": {},
   "outputs": [
    {
     "name": "stdout",
     "output_type": "stream",
     "text": [
      "[[ 3  4  5]\n",
      " [ 7  9 20]\n",
      " [ 4  6 12]]\n",
      "[ 4.         12.          7.33333333]\n",
      "[ 4.66666667  6.33333333 12.33333333]\n"
     ]
    }
   ],
   "source": [
    "# find the mean values along row and column\n",
    "print(a2)\n",
    "print(np.mean( a2,axis = 1))\n",
    "print(np.mean(a2,axis = 0))"
   ]
  },
  {
   "cell_type": "code",
   "execution_count": 52,
   "id": "f703701b-8c76-4ac9-a879-e4f01d38e1ba",
   "metadata": {},
   "outputs": [
    {
     "name": "stdout",
     "output_type": "stream",
     "text": [
      "[[3 4 5]\n",
      " [7 3 4]\n",
      " [4 6 2]]\n",
      "[[0 4 5]\n",
      " [7 0 4]\n",
      " [4 6 0]]\n"
     ]
    }
   ],
   "source": [
    "# matrix operations\n",
    "a3= np.array([[3,4,5],[7,3,4],[4,6,2]])\n",
    "print(a3)\n",
    "\n",
    "np.fill_diagonal(a3,0)\n",
    "print(a3)"
   ]
  },
  {
   "cell_type": "code",
   "execution_count": 64,
   "id": "c9063695-0181-476c-a30c-e43eb404a124",
   "metadata": {},
   "outputs": [
    {
     "name": "stdout",
     "output_type": "stream",
     "text": [
      "[[3 7]\n",
      " [4 3]\n",
      " [5 4]]\n",
      "[[3 7]\n",
      " [4 1]\n",
      " [5 2]]\n"
     ]
    }
   ],
   "source": [
    "# define two matrices\n",
    "A = np.array([[3,4,5],[7,3,4]])\n",
    "B = np.array([[3,4,5],[7,1,2]])\n",
    "print(A.T)\n",
    "print(B.T)"
   ]
  },
  {
   "cell_type": "code",
   "execution_count": 66,
   "id": "42a0a05b-21b1-485a-a18f-e1e4aed7474a",
   "metadata": {},
   "outputs": [
    {
     "data": {
      "text/plain": [
       "array([[ 3,  4,  5],\n",
       "       [ 7,  2,  8],\n",
       "       [ 9,  1,  6],\n",
       "       [10, 13, 18]])"
      ]
     },
     "execution_count": 66,
     "metadata": {},
     "output_type": "execute_result"
    }
   ],
   "source": [
    "#accessing the array elements\n",
    "a4=np.array([[3,4,5],[7,2,8],[9,1,6],[10,13,18]])\n",
    "a4"
   ]
  },
  {
   "cell_type": "code",
   "execution_count": 68,
   "id": "e6be4ec0-6423-4a0a-8649-237a32e3f201",
   "metadata": {},
   "outputs": [
    {
     "data": {
      "text/plain": [
       "1"
      ]
     },
     "execution_count": 68,
     "metadata": {},
     "output_type": "execute_result"
    }
   ],
   "source": [
    "a4[2][1]"
   ]
  },
  {
   "cell_type": "code",
   "execution_count": 70,
   "id": "b4a152dc-3987-489b-8b00-b4cdd7010f44",
   "metadata": {},
   "outputs": [
    {
     "data": {
      "text/plain": [
       "array([[ 4,  5],\n",
       "       [ 2,  8],\n",
       "       [ 1,  6],\n",
       "       [13, 18]])"
      ]
     },
     "execution_count": 70,
     "metadata": {},
     "output_type": "execute_result"
    }
   ],
   "source": [
    "#slicing of array first one row second one col\n",
    "a4[:,1:]"
   ]
  },
  {
   "cell_type": "code",
   "execution_count": 86,
   "id": "38ab4d42-60f7-47df-a914-cbb877b4d673",
   "metadata": {},
   "outputs": [
    {
     "data": {
      "text/plain": [
       "array([[7, 2],\n",
       "       [9, 1]])"
      ]
     },
     "execution_count": 86,
     "metadata": {},
     "output_type": "execute_result"
    }
   ],
   "source": [
    "a5=np.array([[3,4,5],[7,2,8],[9,1,6],[10,13,18]])\n",
    "a5[1:3,0:2]"
   ]
  },
  {
   "cell_type": "code",
   "execution_count": null,
   "id": "15b2329f-0961-4196-b29b-726128dff20d",
   "metadata": {},
   "outputs": [],
   "source": []
  }
 ],
 "metadata": {
  "kernelspec": {
   "display_name": "Python [conda env:base] *",
   "language": "python",
   "name": "conda-base-py"
  },
  "language_info": {
   "codemirror_mode": {
    "name": "ipython",
    "version": 3
   },
   "file_extension": ".py",
   "mimetype": "text/x-python",
   "name": "python",
   "nbconvert_exporter": "python",
   "pygments_lexer": "ipython3",
   "version": "3.12.7"
  }
 },
 "nbformat": 4,
 "nbformat_minor": 5
}
