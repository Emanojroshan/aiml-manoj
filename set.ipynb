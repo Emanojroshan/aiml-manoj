{
 "cells": [
  {
   "cell_type": "code",
   "execution_count": 7,
   "id": "b2f5464b-1606-45c3-ba8a-91fcbe561e04",
   "metadata": {},
   "outputs": [
    {
     "name": "stdout",
     "output_type": "stream",
     "text": [
      "{1, 2, 3, 4, 7, 8}\n",
      "<class 'set'>\n"
     ]
    }
   ],
   "source": [
    "list =[1,2,3,2,7,8,4,2,]\n",
    "s2= set(list)\n",
    "print(s2)\n",
    "print(type(s2))"
   ]
  },
  {
   "cell_type": "code",
   "execution_count": 9,
   "id": "879892ff-5808-4a1c-b8a1-f053cbc1990b",
   "metadata": {},
   "outputs": [
    {
     "data": {
      "text/plain": [
       "['__and__',\n",
       " '__class__',\n",
       " '__class_getitem__',\n",
       " '__contains__',\n",
       " '__delattr__',\n",
       " '__dir__',\n",
       " '__doc__',\n",
       " '__eq__',\n",
       " '__format__',\n",
       " '__ge__',\n",
       " '__getattribute__',\n",
       " '__getstate__',\n",
       " '__gt__',\n",
       " '__hash__',\n",
       " '__iand__',\n",
       " '__init__',\n",
       " '__init_subclass__',\n",
       " '__ior__',\n",
       " '__isub__',\n",
       " '__iter__',\n",
       " '__ixor__',\n",
       " '__le__',\n",
       " '__len__',\n",
       " '__lt__',\n",
       " '__ne__',\n",
       " '__new__',\n",
       " '__or__',\n",
       " '__rand__',\n",
       " '__reduce__',\n",
       " '__reduce_ex__',\n",
       " '__repr__',\n",
       " '__ror__',\n",
       " '__rsub__',\n",
       " '__rxor__',\n",
       " '__setattr__',\n",
       " '__sizeof__',\n",
       " '__str__',\n",
       " '__sub__',\n",
       " '__subclasshook__',\n",
       " '__xor__',\n",
       " 'add',\n",
       " 'clear',\n",
       " 'copy',\n",
       " 'difference',\n",
       " 'difference_update',\n",
       " 'discard',\n",
       " 'intersection',\n",
       " 'intersection_update',\n",
       " 'isdisjoint',\n",
       " 'issubset',\n",
       " 'issuperset',\n",
       " 'pop',\n",
       " 'remove',\n",
       " 'symmetric_difference',\n",
       " 'symmetric_difference_update',\n",
       " 'union',\n",
       " 'update']"
      ]
     },
     "execution_count": 9,
     "metadata": {},
     "output_type": "execute_result"
    }
   ],
   "source": [
    "dir(set)"
   ]
  },
  {
   "cell_type": "code",
   "execution_count": 11,
   "id": "1801a313-1908-4774-b801-08388905588f",
   "metadata": {},
   "outputs": [],
   "source": [
    "#union operation using |operator\n",
    "s={1,2,3,4}\n",
    "s1={1,4,5,6}\n"
   ]
  },
  {
   "cell_type": "code",
   "execution_count": 17,
   "id": "a3182642-52f3-4b22-bcfa-6908582f6d65",
   "metadata": {},
   "outputs": [
    {
     "data": {
      "text/plain": [
       "{1, 2, 3, 4, 5, 6}"
      ]
     },
     "execution_count": 17,
     "metadata": {},
     "output_type": "execute_result"
    }
   ],
   "source": [
    "s|s1"
   ]
  },
  {
   "cell_type": "code",
   "execution_count": 25,
   "id": "8611efa8-70b1-4333-9442-65a9dfa10e1b",
   "metadata": {},
   "outputs": [
    {
     "data": {
      "text/plain": [
       "{1, 2, 3, 4}"
      ]
     },
     "execution_count": 25,
     "metadata": {},
     "output_type": "execute_result"
    }
   ],
   "source": [
    "#intersection using & operator\n",
    "s={1,2,3,4}\n",
    "s1={1,4,5,6}\n",
    "s & s2"
   ]
  },
  {
   "cell_type": "code",
   "execution_count": 27,
   "id": "d8559205-b9d0-457c-b643-b8a160d719a4",
   "metadata": {},
   "outputs": [
    {
     "data": {
      "text/plain": [
       "{2, 3}"
      ]
     },
     "execution_count": 27,
     "metadata": {},
     "output_type": "execute_result"
    }
   ],
   "source": [
    "#difference of two sets\n",
    "s={1,2,3,4}\n",
    "s1={1,4,5,6}\n",
    "s - s1"
   ]
  },
  {
   "cell_type": "code",
   "execution_count": 29,
   "id": "5773d319-bdd5-4fbb-8024-dc4d15f5fff1",
   "metadata": {},
   "outputs": [
    {
     "data": {
      "text/plain": [
       "{5, 6}"
      ]
     },
     "execution_count": 29,
     "metadata": {},
     "output_type": "execute_result"
    }
   ],
   "source": [
    "s={1,2,3,4}\n",
    "s1={1,4,5,6}\n",
    "s1 -s"
   ]
  },
  {
   "cell_type": "code",
   "execution_count": 35,
   "id": "2ee7bc63-eb5e-407c-961c-f80a7f6f3977",
   "metadata": {},
   "outputs": [
    {
     "data": {
      "text/plain": [
       "{2, 3, 5, 6}"
      ]
     },
     "execution_count": 35,
     "metadata": {},
     "output_type": "execute_result"
    }
   ],
   "source": [
    "#symmetric difference \n",
    "s={1,2,3,4}\n",
    "s1={1,4,5,6}\n",
    "s.symmetric_difference(s1)"
   ]
  },
  {
   "cell_type": "code",
   "execution_count": 47,
   "id": "8fb8a5b8-2c6d-4738-9ff9-ed78c13b20ce",
   "metadata": {},
   "outputs": [
    {
     "data": {
      "text/plain": [
       "True"
      ]
     },
     "execution_count": 47,
     "metadata": {},
     "output_type": "execute_result"
    }
   ],
   "source": [
    "s={1,2,3,4,5,6}\n",
    "s1={1,4,5,6}\n",
    "s1.issubset(s)"
   ]
  },
  {
   "cell_type": "code",
   "execution_count": 45,
   "id": "1ea8f440-c0bd-4384-a03d-21ab3ff0c9d3",
   "metadata": {},
   "outputs": [
    {
     "data": {
      "text/plain": [
       "False"
      ]
     },
     "execution_count": 45,
     "metadata": {},
     "output_type": "execute_result"
    }
   ],
   "source": [
    "s.issubset(s1)"
   ]
  },
  {
   "cell_type": "code",
   "execution_count": 53,
   "id": "9f755fa3-9c6f-432e-94ad-d76190e92f8b",
   "metadata": {},
   "outputs": [],
   "source": [
    "#strings\n"
   ]
  },
  {
   "cell_type": "code",
   "execution_count": 57,
   "id": "ccce3a82-bdee-4b8b-9baf-afc54cb8494e",
   "metadata": {},
   "outputs": [
    {
     "name": "stdout",
     "output_type": "stream",
     "text": [
      "welcome to aiml class\n",
      "we started with python\n",
      "this is an awesome class\n"
     ]
    }
   ],
   "source": [
    "str1 = \"welcome to aiml class\"\n",
    "print(str1)\n",
    "str2 = 'we started with python'\n",
    "print(str2)\n",
    "str3 = '''this is an awesome class'''\n",
    "print(str3)"
   ]
  },
  {
   "cell_type": "code",
   "execution_count": 61,
   "id": "351f5383-d036-4529-9bbd-a6d351ebf2f5",
   "metadata": {},
   "outputs": [
    {
     "name": "stdout",
     "output_type": "stream",
     "text": [
      "<class 'str'>\n",
      "<class 'str'>\n",
      "<class 'str'>\n"
     ]
    }
   ],
   "source": [
    "print(type(str1))\n",
    "print(type(str2))\n",
    "print(type(str3))"
   ]
  },
  {
   "cell_type": "code",
   "execution_count": 67,
   "id": "cb545750-2d8e-44d7-830a-822a23ebec44",
   "metadata": {},
   "outputs": [
    {
     "name": "stdout",
     "output_type": "stream",
     "text": [
      "welcome to aiml class\n"
     ]
    },
    {
     "data": {
      "text/plain": [
       "'me to'"
      ]
     },
     "execution_count": 67,
     "metadata": {},
     "output_type": "execute_result"
    }
   ],
   "source": [
    "print(str1)\n",
    "str1[5:10]"
   ]
  },
  {
   "cell_type": "code",
   "execution_count": 69,
   "id": "cfbcaaac-7783-462b-82ca-43bab85a6c40",
   "metadata": {},
   "outputs": [
    {
     "name": "stdout",
     "output_type": "stream",
     "text": [
      "welcome to aiml class\n"
     ]
    },
    {
     "data": {
      "text/plain": [
       "['welcome', 'to', 'aiml', 'class']"
      ]
     },
     "execution_count": 69,
     "metadata": {},
     "output_type": "execute_result"
    }
   ],
   "source": [
    "# use split()\n",
    "print(str1)\n",
    "str1.split()"
   ]
  },
  {
   "cell_type": "code",
   "execution_count": 71,
   "id": "f5832ec2-5192-4093-babb-47a54af0366e",
   "metadata": {},
   "outputs": [
    {
     "data": {
      "text/plain": [
       "'the product is awesome;great service'"
      ]
     },
     "execution_count": 71,
     "metadata": {},
     "output_type": "execute_result"
    }
   ],
   "source": [
    "#use join() method\n",
    "reviews = [\"the product is awesome\", \"great service\"]\n",
    "joined_string = ';'.join(reviews)\n",
    "joined_string"
   ]
  },
  {
   "cell_type": "code",
   "execution_count": 73,
   "id": "2036b7ea-687a-486f-81b7-9da8e738c5bc",
   "metadata": {},
   "outputs": [
    {
     "data": {
      "text/plain": [
       "'  hello, how are you?  '"
      ]
     },
     "execution_count": 73,
     "metadata": {},
     "output_type": "execute_result"
    }
   ],
   "source": [
    "#use of strip() method\n",
    "str5=\"  hello, how are you?  \"\n",
    "str5\n"
   ]
  },
  {
   "cell_type": "code",
   "execution_count": 75,
   "id": "44ad54be-abb0-4b33-87f3-8f5fb4ff7d84",
   "metadata": {},
   "outputs": [
    {
     "data": {
      "text/plain": [
       "'hello, how are you?'"
      ]
     },
     "execution_count": 75,
     "metadata": {},
     "output_type": "execute_result"
    }
   ],
   "source": [
    "str5.strip()"
   ]
  },
  {
   "cell_type": "code",
   "execution_count": 77,
   "id": "07cb3d21-91a7-4749-9c15-420d9b0253d3",
   "metadata": {},
   "outputs": [
    {
     "data": {
      "text/plain": [
       "'  hello, how are you?  '"
      ]
     },
     "execution_count": 77,
     "metadata": {},
     "output_type": "execute_result"
    }
   ],
   "source": [
    "str5.lower()"
   ]
  },
  {
   "cell_type": "code",
   "execution_count": 81,
   "id": "8e9d6b77-39c6-46f8-b578-5db1afb8d72c",
   "metadata": {},
   "outputs": [
    {
     "data": {
      "text/plain": [
       "'  HELLO, HOW ARE YOU?  '"
      ]
     },
     "execution_count": 81,
     "metadata": {},
     "output_type": "execute_result"
    }
   ],
   "source": [
    "str5.upper()"
   ]
  },
  {
   "cell_type": "code",
   "execution_count": null,
   "id": "659a06df-b159-4eb5-8535-8be280bc8831",
   "metadata": {},
   "outputs": [],
   "source": []
  }
 ],
 "metadata": {
  "kernelspec": {
   "display_name": "Python [conda env:base] *",
   "language": "python",
   "name": "conda-base-py"
  },
  "language_info": {
   "codemirror_mode": {
    "name": "ipython",
    "version": 3
   },
   "file_extension": ".py",
   "mimetype": "text/x-python",
   "name": "python",
   "nbconvert_exporter": "python",
   "pygments_lexer": "ipython3",
   "version": "3.12.7"
  }
 },
 "nbformat": 4,
 "nbformat_minor": 5
}
