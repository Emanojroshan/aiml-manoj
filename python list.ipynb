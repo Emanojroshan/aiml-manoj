{
 "cells": [
  {
   "cell_type": "code",
   "execution_count": 9,
   "id": "d1695131-20c5-447c-bbb1-1097295de8f5",
   "metadata": {},
   "outputs": [
    {
     "name": "stdout",
     "output_type": "stream",
     "text": [
      "30\n",
      "[30, 5]\n",
      "[30, 5, 4]\n",
      "[10, 30, 5]\n"
     ]
    }
   ],
   "source": [
    "#indexing and slicing\n",
    "l=[10,30,5,4]\n",
    "print(l[1])#indexing\n",
    "print(l[1:3])#slicing\n",
    "print(l[1: ])#s\n",
    "print(l[:3])#s"
   ]
  },
  {
   "cell_type": "code",
   "execution_count": 13,
   "id": "3e291e69-4c78-4cea-a594-eec5769c37cf",
   "metadata": {},
   "outputs": [
    {
     "name": "stdout",
     "output_type": "stream",
     "text": [
      "10\n",
      "20\n",
      "30\n",
      "60\n",
      "5\n",
      "10\n",
      "4\n",
      "8\n"
     ]
    }
   ],
   "source": [
    "#iterable 1.2\n",
    "for item in l:\n",
    "    print(item)\n",
    "    print(2*item)#multiply by 2\n",
    "    \n"
   ]
  },
  {
   "cell_type": "code",
   "execution_count": 15,
   "id": "8b3058d5-6ac4-4135-9668-78debe28ac64",
   "metadata": {},
   "outputs": [
    {
     "name": "stdout",
     "output_type": "stream",
     "text": [
      "10\n",
      "30\n",
      "5\n",
      "4\n"
     ]
    }
   ],
   "source": [
    "#iterable 1.2\n",
    "for x in range(len(l)):\n",
    "    print(l[x])"
   ]
  },
  {
   "cell_type": "code",
   "execution_count": 19,
   "id": "73dfaa39-5be2-4836-897c-799f384ddc2b",
   "metadata": {},
   "outputs": [],
   "source": [
    "# duplicated allowed\n",
    "# revrese indexing allowed starts from back of list with index value -1\n"
   ]
  },
  {
   "cell_type": "code",
   "execution_count": 27,
   "id": "67081ffd-6d0a-48d0-b0f5-57b9ce696639",
   "metadata": {},
   "outputs": [
    {
     "data": {
      "text/plain": [
       "[['a', 1], ['b', 2], ['c', 3]]"
      ]
     },
     "execution_count": 27,
     "metadata": {},
     "output_type": "execute_result"
    }
   ],
   "source": [
    "# initial list of order item and quantity\n",
    "o = [[\"a\",1],[\"b\",2]]\n",
    "# add new order\n",
    "n =[\"c\",3]\n",
    "o.append(n)#append is used to add single item\n",
    "o"
   ]
  },
  {
   "cell_type": "code",
   "execution_count": 31,
   "id": "3a9ada75-46ae-4a74-bc3b-ad578ae1dd7a",
   "metadata": {},
   "outputs": [
    {
     "data": {
      "text/plain": [
       "[['a', 1], ['b', 2], ['c', 3], ['d', 5]]"
      ]
     },
     "execution_count": 31,
     "metadata": {},
     "output_type": "execute_result"
    }
   ],
   "source": [
    "# initial list of order item and quantity\n",
    "o = [[\"a\",1],[\"b\",2]]\n",
    "# add multipul new order\n",
    "m =[[\"c\",3],[\"d\",5]]\n",
    "o.extend(m)#extend is used to add multiple aitems\n",
    "o"
   ]
  },
  {
   "cell_type": "code",
   "execution_count": 33,
   "id": "67f11fa5-5bd8-4ac6-b654-5393c6b193ee",
   "metadata": {},
   "outputs": [
    {
     "data": {
      "text/plain": [
       "[['a', 1], ['c', 3], ['b', 2]]"
      ]
     },
     "execution_count": 33,
     "metadata": {},
     "output_type": "execute_result"
    }
   ],
   "source": [
    "#insert an order in middle\n",
    "# initial list of order item and quantity\n",
    "o = [[\"a\",1],[\"b\",2]]\n",
    "# add  new order\n",
    "p =[\"c\",3]\n",
    "o.insert(1,p)\n",
    "o\n"
   ]
  },
  {
   "cell_type": "code",
   "execution_count": 39,
   "id": "f9e39228-f8f1-429e-bbc3-5460330f7e29",
   "metadata": {},
   "outputs": [
    {
     "data": {
      "text/plain": [
       "[['b', 2]]"
      ]
     },
     "execution_count": 39,
     "metadata": {},
     "output_type": "execute_result"
    }
   ],
   "source": [
    "# delete order using remove() or pop()\n",
    "#pop uses index value to remove\n",
    "#remove uses element value to remove\n",
    "#pop is use to print the pop element\n",
    "#remove is use to print the remaining elements after removing the give element value\n",
    "k = [[\"a\",1],[\"b\",2],[\"c\",3]]\n",
    "k.pop(2)#index value\n",
    "k"
   ]
  },
  {
   "cell_type": "code",
   "execution_count": 49,
   "id": "b1d0eb72-687e-4756-8bd1-489f3feed6b2",
   "metadata": {},
   "outputs": [
    {
     "data": {
      "text/plain": [
       "[['b', 2], ['c', 3]]"
      ]
     },
     "execution_count": 49,
     "metadata": {},
     "output_type": "execute_result"
    }
   ],
   "source": [
    "p = [[\"a\",1],[\"b\",2],[\"c\",3]]\n",
    "p.remove([\"a\",1])#element value\n",
    "p"
   ]
  },
  {
   "cell_type": "code",
   "execution_count": 12,
   "id": "e0f0bcab-77b8-4b6c-9469-7f0175030194",
   "metadata": {},
   "outputs": [
    {
     "data": {
      "text/plain": [
       "[['a', 5], ['b', 2], ['c', 3]]"
      ]
     },
     "execution_count": 12,
     "metadata": {},
     "output_type": "execute_result"
    }
   ],
   "source": [
    "# updating the quantity of item (a to 5)\n",
    "p = [[\"a\",1],[\"b\",2],[\"c\",3]]\n",
    "for each in p:\n",
    "    if each[0] == \"a\":\n",
    "        each[1]=5\n",
    "p"
   ]
  },
  {
   "cell_type": "code",
   "execution_count": 16,
   "id": "b963db01-dddb-48a2-89f0-ecb8db6a6a56",
   "metadata": {},
   "outputs": [
    {
     "data": {
      "text/plain": [
       "[['a', 1], ['b', 2], ['c', 3], ['a', 9]]"
      ]
     },
     "execution_count": 16,
     "metadata": {},
     "output_type": "execute_result"
    }
   ],
   "source": [
    "#find the total quantity of \"a\"\n",
    "p = [[\"a\",1],[\"b\",2],[\"c\",3],]\n",
    "d=[\"a\",9]\n",
    "p.append(d)\n",
    "p"
   ]
  },
  {
   "cell_type": "code",
   "execution_count": 36,
   "id": "4f741353-60fb-4c4a-b297-6adec5492f77",
   "metadata": {},
   "outputs": [
    {
     "name": "stdout",
     "output_type": "stream",
     "text": [
      "[1, 9]\n"
     ]
    },
    {
     "data": {
      "text/plain": [
       "10"
      ]
     },
     "execution_count": 36,
     "metadata": {},
     "output_type": "execute_result"
    }
   ],
   "source": [
    "D=[]\n",
    "for each in p:\n",
    "    if each[0] == \"a\":\n",
    "        D.append(each[1])\n",
    "print(D)\n",
    "sum(D)"
   ]
  },
  {
   "cell_type": "code",
   "execution_count": null,
   "id": "f736dbe6-4655-4525-a6a9-e94f4bc2b961",
   "metadata": {},
   "outputs": [],
   "source": []
  }
 ],
 "metadata": {
  "kernelspec": {
   "display_name": "Python [conda env:base] *",
   "language": "python",
   "name": "conda-base-py"
  },
  "language_info": {
   "codemirror_mode": {
    "name": "ipython",
    "version": 3
   },
   "file_extension": ".py",
   "mimetype": "text/x-python",
   "name": "python",
   "nbconvert_exporter": "python",
   "pygments_lexer": "ipython3",
   "version": "3.12.7"
  }
 },
 "nbformat": 4,
 "nbformat_minor": 5
}
